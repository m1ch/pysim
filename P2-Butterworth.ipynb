{
 "cells": [
  {
   "cell_type": "code",
   "execution_count": null,
   "metadata": {
    "collapsed": true,
    "deletable": true,
    "editable": true
   },
   "outputs": [],
   "source": [
    "%matplotlib inline\n",
    "from ahkab import new_pz, run\n",
    "from ahkab.circuit import Circuit\n",
    "from ahkab.plotting import plot_results # calls matplotlib for you\n",
    "import numpy as np\n",
    "import matplotlib.pyplot as plt\n",
    "\n",
    "from zplane import zplane"
   ]
  },
  {
   "cell_type": "markdown",
   "metadata": {
    "deletable": true,
    "editable": true
   },
   "source": [
    "## Butterworth Filter \n",
    "\n",
    "![Butterworth Filter](./pictures/butterworth_1k.svg)\n"
   ]
  },
  {
   "cell_type": "code",
   "execution_count": null,
   "metadata": {
    "collapsed": true,
    "deletable": true,
    "editable": true
   },
   "outputs": [],
   "source": [
    "# Define the circuit\n",
    "cir = Circuit('Butterworth 1kHz band-pass filter')\n",
    "cir.add_vsource('V1', 'n1', cir.gnd, dc_value=0., ac_value=1.)\n",
    "cir.add_resistor('R1', 'n1', 'n2', 50.)\n",
    "cir.add_inductor('L1', 'n2', 'n3', 0.245894)\n",
    "cir.add_capacitor('C1', 'n3', 'n4', 1.03013e-07)\n",
    "cir.add_inductor('L2', 'n4', cir.gnd, 9.83652e-05)\n",
    "cir.add_capacitor('C2', 'n4', cir.gnd, 0.000257513)\n",
    "cir.add_inductor('L3', 'n4', 'n5', 0.795775)\n",
    "cir.add_capacitor('C3', 'n5', 'n6', 3.1831e-08)\n",
    "cir.add_inductor('L4', 'n6', cir.gnd, 9.83652e-05)\n",
    "cir.add_capacitor('C4', 'n6', cir.gnd, 0.000257513)\n",
    "cir.add_capacitor('C5', 'n7', 'n8', 1.03013e-07)\n",
    "cir.add_inductor('L5', 'n6', 'n7', 0.245894)\n",
    "cir.add_resistor('R2', 'n8', cir.gnd, 50.)\n",
    "\n"
   ]
  },
  {
   "cell_type": "markdown",
   "metadata": {
    "deletable": true,
    "editable": true
   },
   "source": [
    "## Run pole-zero analysis"
   ]
  },
  {
   "cell_type": "code",
   "execution_count": null,
   "metadata": {
    "collapsed": false,
    "deletable": true,
    "editable": true
   },
   "outputs": [],
   "source": [
    "pz = new_pz(input_source='V1', output_port=('n8', cir.gnd), x0=None, shift=1e3)\n",
    "r = run(cir, pz)['pz']\n",
    "for x, _ in r:\n",
    "  print( \"* %s = %+g %+gj Hz (%+g < %+g)\" % (x, np.real(r[x]), np.imag(r[x]), np.abs(r[x]), np.angle(r[x])))\n"
   ]
  },
  {
   "cell_type": "markdown",
   "metadata": {
    "deletable": true,
    "editable": true
   },
   "source": [
    "# Create zero-pole plot"
   ]
  },
  {
   "cell_type": "code",
   "execution_count": null,
   "metadata": {
    "collapsed": false,
    "deletable": true,
    "editable": true
   },
   "outputs": [],
   "source": [
    "plt.figure(figsize=[15,15],dpi=100)\n",
    "plt.subplot(2, 2, 1)\n",
    "plt.title('Poles and zeros')\n",
    "plt.grid(True, color='0.9', linestyle='-', which='both', axis='both')\n",
    "zplane(r.zeros, r.poles)\n",
    "#zplane(z, p)"
   ]
  },
  {
   "cell_type": "markdown",
   "metadata": {
    "deletable": true,
    "editable": true
   },
   "source": [
    "## Pole-Zero theory\n",
    "\n",
    "[pole-zero wikipedia](https://en.wikipedia.org/wiki/Pole%E2%80%93zero_plot)\n",
    "\n",
    "![Pole-zero](http://www.sciweavers.org/tex2img.php?eq=H%28s%29%20%3D%20%20k_%7B0%7D%20%5Cfrac%7B%28s-z_%7B0%7D%29%28s-z_%7B1%7D%29%28s-z_%7B2%7D%29%7D%7B%28s-p_%7B0%7D%29%28s-p_%7B1%7D%29%28s-p_%7B2%7D%29%7D%20&bc=White&fc=Black&im=jpg&fs=12&ff=arev&edit=0)\n",
    "\n",
    "![s](http://www.sciweavers.org/tex2img.php?eq=s%20%3D%20j%2A%20%5Comega%20&bc=White&fc=Black&im=jpg&fs=12&ff=arev&edit=0)\n",
    "\n"
   ]
  },
  {
   "cell_type": "code",
   "execution_count": null,
   "metadata": {
    "collapsed": false,
    "deletable": true,
    "editable": true
   },
   "outputs": [],
   "source": [
    "z=r.zeros\n",
    "p=r.poles\n",
    "\n",
    "w_min=0.97e3\n",
    "w_max=1.03e3\n",
    "w_points=int(1e4)\n",
    "\n",
    "# Generate a log frequency range\n",
    "w= w_min*10**((np.log10(w_max) - np.log10(w_min))*np.arange(w_points)/(w_points - 1))\n",
    "j=1j\n",
    "s=j*w\n",
    "\n",
    "if(p.size):\n",
    "    HN=(np.reshape(s, (-1,1)).repeat(p.size,axis=1)-p).prod(axis=1)\n",
    "else:\n",
    "    HN=np.ones(w_points)\n",
    "if(z.size):\n",
    "    HZ=(np.reshape(s, (-1,1)).repeat(z.size,axis=1)-z).prod(axis=1)\n",
    "else:\n",
    "    HZ=np.ones(w_points)\n",
    "    \n",
    "# K = np.abs(p).prod()/np.abs(z).prod()\n",
    "# K = np.abs(p).sum()/np.abs(z).sum()\n",
    "# print(K,HZ,HN)\n",
    "K=1\n",
    "H=HZ/HN\n",
    "\n",
    "\n",
    "plt.figure(figsize=[15,8],dpi=100)\n",
    "plt.subplot(211)\n",
    "plt.grid(True)\n",
    "plt.semilogx(w, np.log10(np.abs(K*H))*20, '-')\n",
    "plt.ylabel('abs(H) [db20]')\n",
    "plt.title(\"AC Simulation\")\n",
    "plt.subplot(212)\n",
    "plt.grid(True)\n",
    "plt.semilogx(w, np.angle((H)), '-')\n",
    "plt.xlabel('Angular frequency [1/s]')\n",
    "plt.ylabel('arg(V(n4)) [rad]')"
   ]
  },
  {
   "cell_type": "code",
   "execution_count": null,
   "metadata": {
    "collapsed": true,
    "deletable": true,
    "editable": true
   },
   "outputs": [],
   "source": []
  }
 ],
 "metadata": {
  "kernelspec": {
   "display_name": "Python 3",
   "language": "python",
   "name": "python3"
  },
  "language_info": {
   "codemirror_mode": {
    "name": "ipython",
    "version": 3
   },
   "file_extension": ".py",
   "mimetype": "text/x-python",
   "name": "python",
   "nbconvert_exporter": "python",
   "pygments_lexer": "ipython3",
   "version": "3.5.3"
  }
 },
 "nbformat": 4,
 "nbformat_minor": 2
}
