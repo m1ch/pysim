{
 "cells": [
  {
   "cell_type": "code",
<<<<<<< HEAD
   "execution_count": 1,
   "metadata": {},
=======
   "execution_count": null,
   "metadata": {
    "collapsed": true,
    "deletable": true,
    "editable": true
   },
>>>>>>> 602162f38121b7a4106d807c6bd5e286be17c0d3
   "outputs": [],
   "source": [
    "%matplotlib inline\n",
    "#import nbs.utils; reload(nbs/utils)\n",
    "#from utils import *\n",
    "import matplotlib.pyplot as plt\n",
    "import math,sys,os\n",
    "import numpy as np\n",
    "import numpy.random as rand\n",
    "import tempfile\n",
    "from matplotlib import rcParams, animation, rc\n",
    "from __future__ import print_function, division\n",
    "from ipywidgets import interact, interactive, fixed\n",
    "from ipywidgets.widgets import *\n",
    "rc('animation', html='html5')\n",
    "rcParams['figure.figsize'] = 3, 3\n",
    "%precision 4\n",
    "np.set_printoptions(precision=4, linewidth=100)\n",
    "\n",
    "\n",
    "from ahkab import new_ac, run, new_op, new_pz, new_tran, time_functions\n",
    "from ahkab.circuit import Circuit\n",
    "from ahkab.plotting import plot_results # calls matplotlib for you\n",
    "from ahkab.netlist_parser import parse_circuit, parse_analysis\n",
    "\n",
    "import ahkab"
   ]
  },
  {
   "cell_type": "markdown",
   "metadata": {
    "deletable": true,
    "editable": true
   },
   "source": [
    "### Small-signal transfer function of an opamp integrator\n",
    "\n",
    "![RLC Filter](./pictures/leaky_integrator.png)"
   ]
  },
  {
   "cell_type": "code",
<<<<<<< HEAD
   "execution_count": 2,
   "metadata": {},
   "outputs": [
    {
     "name": "stdout",
     "output_type": "stream",
     "text": [
      "number of simulations: 3\n",
      "Circuit description:\n",
      "* * leaky integrator with finite gain\n",
      "v1 in 0 type=vdc value=5.0 vac=1.0 \n",
      "r1 in inv 1000\n",
      "e1 out 0 0 inv 1e+06\n",
      "c1 inv out 1e-12\n",
      "r2 inv out 1000\n",
      "\n",
      "Tests:\n",
      "[('.symbolic tf=v1 ac=1', 9), ('.op', 10), ('.tran tstop=150n tstep=.1n method=trap uic=2', 11)]\n"
     ]
    }
   ],
=======
   "execution_count": null,
   "metadata": {
    "collapsed": false,
    "deletable": true,
    "editable": true
   },
   "outputs": [],
>>>>>>> 602162f38121b7a4106d807c6bd5e286be17c0d3
   "source": [
    "(circ, directives, postproc_direct) = parse_circuit('ckts/leaky_integrator.ckt')\n",
    "print(\"number of simulations: \" + str(len(ahkab.netlist_parser.parse_analysis(circ, directives))))\n",
    "\n",
    "an = parse_analysis(circ, directives)\n",
    "for a in an:\n",
    "  a['outfile']=tempfile.mktemp('')\n",
    "\n",
    "print(\"Circuit description:\")\n",
    "print(circ)\n",
    "print(\"\\nTests:\")\n",
    "print(directives)\n"
   ]
  },
  {
   "cell_type": "code",
<<<<<<< HEAD
   "execution_count": 3,
=======
   "execution_count": null,
>>>>>>> 602162f38121b7a4106d807c6bd5e286be17c0d3
   "metadata": {
    "collapsed": false,
    "deletable": true,
    "editable": true,
    "scrolled": false
   },
<<<<<<< HEAD
   "outputs": [
    {
     "name": "stdout",
     "output_type": "stream",
     "text": [
      "Starting symbolic AC analysis...\n",
      "Building symbolic MNA, N and x...  done.\n",
      "Building equations...\n",
      "Solving...\n",
      "Success!\n",
      "Results:\n",
      "Calculating small-signal symbolic transfer functions (V1))... done.\n",
      "Small-signal symbolic transfer functions:\n",
      "Starting op analysis:\n",
      "Calculating guess: skipped. (linear circuit)\n",
      "Solving...   done.\n",
      "Solving...   done.\n",
      "Difference check within margins.\n",
      "(Voltage: er=0.001, ea=1e-06, Current: er=0.001, ea=1e-09)\n",
      "Starting transient analysis: \n",
      "Selected method: TRAP\n",
      "Solving...  done.\n",
      "Average time step: 9.9734e-11\n",
      "#################################################\n",
      "Results: \n",
      "OP simulation results for '* leaky integrator with finite gain'(netlist ckts/leaky_integrator.ckt).\n",
      "Run on 2017-12-04 20:34:27, data file /tmp/tmp1pm5ta8p.\n",
      "Variable    Units           Value         Error    %\n",
      "----------  -------  ------------  ------------  ---\n",
      "VIN         V         5            -5e-12          0\n",
      "VINV        V         4.99999e-06  -4.61048e-18    0\n",
      "VOUT        V        -4.99999       4.99999e-12    0\n",
      "I(V1)       A        -0.005         0              0\n",
      "I(E1)       A         0.005         0              0\n",
      "#####################\n",
      "\n",
      "Symbolic simulation results for '* leaky integrator with finite gain' (netlist ckts/leaky_integrator.ckt).\n",
      "Run on 2017-12-04 20:34:27.\n",
      "I[E1]\t = V1*(C1*R2*s + E1*(C1*R2*s + 1.0) + 1.0)/(C1*R1*R2*s + E1*R1*(C1*R2*s + 1.0) + R1 + R2)\n",
      "I[V1]\t = -V1*(C1*E1*R2*s + C1*R2*s + E1 + 1.0)/(C1*E1*R1*R2*s + C1*R1*R2*s + E1*R1 + R1 + R2)\n",
      "VIN\t = V1\n",
      "VINV\t = R2*V1/(C1*R1*R2*s + E1*R1*(C1*R2*s + 1.0) + R1 + R2)\n",
      "VOUT\t = -E1*R2*V1/(C1*R1*R2*s + E1*R1*(C1*R2*s + 1.0) + R1 + R2)\n",
      "\n",
      "Symbolic transfer function results for '* leaky integrator with finite gain' (netlist ckts/leaky_integrator.ckt).\n",
      "Run on 2017-12-04 20:34:27.\n",
      "I[E1]/V1:\n",
      "\tgain:\t(C1*R2*s + E1*(C1*R2*s + 1.0) + 1.0)/(C1*R1*R2*s + E1*R1*(C1*R2*s + 1.0) + R1 + R2)\n",
      "\tgain0:\t(1.0*E1 + 1.0)/(1.0*E1*R1 + R1 + R2)\n",
      "\tpoles:\n",
      "\t\t-(E1*R1 + R1 + R2)/(C1*R1*R2*(E1 + 1.0))\n",
      "\tzeros:\n",
      "\t\t-1/(C1*R2)\n",
      "I[V1]/V1:\n",
      "\tgain:\t-(C1*E1*R2*s + C1*R2*s + E1 + 1.0)/(C1*E1*R1*R2*s + C1*R1*R2*s + E1*R1 + R1 + R2)\n",
      "\tgain0:\t-(E1 + 1.0)/(E1*R1 + R1 + R2)\n",
      "\tpoles:\n",
      "\t\t-(E1*R1 + R1 + R2)/(C1*R1*R2*(E1 + 1))\n",
      "\tzeros:\n",
      "\t\t-1/(C1*R2)\n",
      "VIN/V1:\n",
      "\tgain:\t1\n",
      "VINV/V1:\n",
      "\tgain:\tR2/(C1*R1*R2*s + E1*R1*(C1*R2*s + 1.0) + R1 + R2)\n",
      "\tgain0:\tR2/(1.0*E1*R1 + R1 + R2)\n",
      "\tpoles:\n",
      "\t\t-(E1*R1 + R1 + R2)/(C1*R1*R2*(E1 + 1.0))\n",
      "VOUT/V1:\n",
      "\tgain:\t-E1*R2/(C1*R1*R2*s + E1*R1*(C1*R2*s + 1.0) + R1 + R2)\n",
      "\tgain0:\t-E1*R2/(1.0*E1*R1 + R1 + R2)\n",
      "\tpoles:\n",
      "\t\t-(E1*R1 + R1 + R2)/(C1*R1*R2*(E1 + 1.0))\n",
      "\n"
     ]
    }
   ],
=======
   "outputs": [],
>>>>>>> 602162f38121b7a4106d807c6bd5e286be17c0d3
   "source": [
    "res = run(circ, an)\n",
    "print(\"#################################################\\nResults: \")\n",
    "print(res['op'])\n",
    "print(\"#####################\\n\")\n",
    "\n",
    "for x in res['symbolic']:\n",
    "  print(x)"
   ]
  },
  {
   "cell_type": "code",
<<<<<<< HEAD
   "execution_count": 4,
   "metadata": {},
   "outputs": [
    {
     "name": "stderr",
     "output_type": "stream",
     "text": [
      "W: TRAN has x0 set to op, unavailable. Using 'None'.\n"
     ]
    },
    {
     "data": {
      "text/plain": [
       "Text(0.5,0,'Time [s]')"
      ]
     },
     "execution_count": 4,
     "metadata": {},
     "output_type": "execute_result"
    },
    {
     "data": {
      "image/png": "iVBORw0KGgoAAAANSUhEUgAAA+EAAAKgCAYAAAD0ynybAAAABHNCSVQICAgIfAhkiAAAAAlwSFlz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\nkiRJkjQm/wFXZsyvUKj1rAAAAABJRU5ErkJggg==\n",
      "text/plain": [
       "<matplotlib.figure.Figure at 0x7f17f0462358>"
      ]
     },
     "metadata": {},
     "output_type": "display_data"
    }
   ],
=======
   "execution_count": null,
   "metadata": {
    "collapsed": false,
    "deletable": true,
    "editable": true
   },
   "outputs": [],
>>>>>>> 602162f38121b7a4106d807c6bd5e286be17c0d3
   "source": [
    "tran = ahkab.new_tran(tstart=0., tstop=7.5e-9, tstep=.01e-9, method='trap')\n",
    "r = run(circ, tran)['tran']\n",
    "\n",
    "plt.figure(figsize=[12,8],dpi=100)\n",
    "# plt.title(cir.title + \" - TRAN Simulation\")\n",
    "plt.plot(r['T'], r['VIN'], label=\"Input voltage\")\n",
    "plt.plot(r['T'], r['VINV'], label=\"VINV voltage\")\n",
    "plt.plot(r['T'], -r['VOUT'], label=\"output voltage(inverted)\")\n",
    "plt.legend()\n",
    "plt.grid(True)\n",
    "# plt.ylim([0,Vin*1.5])\n",
    "plt.ylabel('Step response')\n",
    "plt.xlabel('Time [s]')\n"
   ]
  },
  {
   "cell_type": "code",
   "execution_count": null,
   "metadata": {},
   "outputs": [],
   "source": []
  }
 ],
 "metadata": {
  "kernelspec": {
   "display_name": "Python 3",
   "language": "python",
   "name": "python3"
  },
  "language_info": {
   "codemirror_mode": {
    "name": "ipython",
    "version": 3
   },
   "file_extension": ".py",
   "mimetype": "text/x-python",
   "name": "python",
   "nbconvert_exporter": "python",
   "pygments_lexer": "ipython3",
   "version": "3.6.3"
  }
 },
 "nbformat": 4,
 "nbformat_minor": 2
}
