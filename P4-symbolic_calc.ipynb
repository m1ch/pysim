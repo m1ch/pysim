{
 "cells": [
  {
   "cell_type": "code",
   "execution_count": null,
   "metadata": {
    "collapsed": true,
    "deletable": true,
    "editable": true
   },
   "outputs": [],
   "source": [
    "%matplotlib inline\n",
    "#import nbs.utils; reload(nbs/utils)\n",
    "#from utils import *\n",
    "import matplotlib.pyplot as plt\n",
    "import math,sys,os\n",
    "import numpy as np\n",
    "import numpy.random as rand\n",
    "import tempfile\n",
    "from matplotlib import rcParams, animation, rc\n",
    "from __future__ import print_function, division\n",
    "from ipywidgets import interact, interactive, fixed\n",
    "from ipywidgets.widgets import *\n",
    "rc('animation', html='html5')\n",
    "rcParams['figure.figsize'] = 3, 3\n",
    "%precision 4\n",
    "np.set_printoptions(precision=4, linewidth=100)\n",
    "\n",
    "\n",
    "from ahkab import new_ac, run, new_op, new_pz, new_tran, time_functions\n",
    "from ahkab.circuit import Circuit\n",
    "from ahkab.plotting import plot_results # calls matplotlib for you\n",
    "from ahkab.netlist_parser import parse_circuit, parse_analysis\n",
    "\n",
    "import ahkab"
   ]
  },
  {
   "cell_type": "markdown",
   "metadata": {
    "deletable": true,
    "editable": true
   },
   "source": [
    "### Small-signal transfer function of various opamp configurations\n",
    "\n",
    "![RLC Filter](./pictures/leaky_integrator.png)"
   ]
  },
  {
   "cell_type": "code",
   "execution_count": null,
   "metadata": {
    "collapsed": false,
    "deletable": true,
    "editable": true
   },
   "outputs": [],
   "source": [
    "(circ, directives, postproc_direct) = parse_circuit('ckts/leaky_integrator.ckt')\n",
    "print(\"number of simulations: \" + str(len(ahkab.netlist_parser.parse_analysis(circ, directives))))\n",
    "\n",
    "an = parse_analysis(circ, directives)\n",
    "for a in an:\n",
    "  a['outfile']=tempfile.mktemp('')\n",
    "\n",
    "print(\"Circuit description:\")\n",
    "print(circ)\n",
    "print(\"\\nTests:\")\n",
    "print(directives)\n"
   ]
  },
  {
   "cell_type": "code",
   "execution_count": null,
   "metadata": {
    "collapsed": false,
    "deletable": true,
    "editable": true,
    "scrolled": false
   },
   "outputs": [],
   "source": [
    "res = run(circ, an)\n",
    "print(\"#################################################\\nResults: \")\n",
    "print(res['op'])\n",
    "print(\"#####################\\n\")\n",
    "\n",
    "for x in res['symbolic']:\n",
    "  print(x)"
   ]
  },
  {
   "cell_type": "code",
   "execution_count": null,
   "metadata": {
    "collapsed": false,
    "deletable": true,
    "editable": true
   },
   "outputs": [],
   "source": [
    "tran = ahkab.new_tran(tstart=0., tstop=7.5e-9, tstep=.01e-9, method='trap')\n",
    "r = run(circ, tran)['tran']\n",
    "\n",
    "plt.figure(figsize=[12,8],dpi=100)\n",
    "# plt.title(cir.title + \" - TRAN Simulation\")\n",
    "plt.plot(r['T'], r['VIN'], label=\"Input voltage\")\n",
    "plt.plot(r['T'], r['VINV'], label=\"VINV voltage\")\n",
    "plt.plot(r['T'], -r['VOUT'], label=\"output voltage(inverted)\")\n",
    "plt.legend()\n",
    "plt.grid(True)\n",
    "# plt.ylim([0,Vin*1.5])\n",
    "plt.ylabel('Step response')\n",
    "plt.xlabel('Time [s]')\n"
   ]
  }
 ],
 "metadata": {
  "kernelspec": {
   "display_name": "Python 3",
   "language": "python",
   "name": "python3"
  },
  "language_info": {
   "codemirror_mode": {
    "name": "ipython",
    "version": 3
   },
   "file_extension": ".py",
   "mimetype": "text/x-python",
   "name": "python",
   "nbconvert_exporter": "python",
   "pygments_lexer": "ipython3",
   "version": "3.5.3"
  }
 },
 "nbformat": 4,
 "nbformat_minor": 2
}
