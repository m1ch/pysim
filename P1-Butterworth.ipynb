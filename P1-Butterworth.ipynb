{
 "cells": [
  {
   "cell_type": "markdown",
   "metadata": {
    "deletable": true,
    "editable": true
   },
   "source": [
    "# Butterworth Filter example\n",
    "\n",
    "![Butterworth Filter](./pictures/butterworth_dp.svg)"
   ]
  },
  {
   "cell_type": "code",
   "execution_count": null,
   "metadata": {
    "collapsed": false,
    "deletable": true,
    "editable": true
   },
   "outputs": [],
   "source": [
    "from ahkab import new_ac, new_op, new_tran, run\n",
    "from ahkab.circuit import Circuit\n",
    "from ahkab.plotting import plot_results # calls matplotlib for you\n",
    "import numpy as np\n",
    "\n",
    "\n",
    "# Define the circuit\n",
    "cir = Circuit(title=\"Butterworth Low-pass filter\")\n",
    "\n",
    "gnd = cir.get_ground_node()\n",
    "\n",
    "cir.add_vsource('V1', 'n1', cir.gnd, dc_value=0., ac_value=1.)\n",
    "cir.add_resistor(\"R1\", n1=\"n1\", n2=\"n2\", value=600)\n",
    "cir.add_inductor(\"L1\", n1=\"n2\", n2=\"n3\", value=15.24e-3)\n",
    "cir.add_capacitor(\"C1\", n1=\"n3\", n2=gnd, value=119.37e-9)\n",
    "cir.add_inductor(\"L2\", n1=\"n3\", n2=\"n4\", value=61.86e-3)\n",
    "cir.add_capacitor(\"C2\", n1=\"n4\", n2=gnd, value=155.12e-9)\n",
    "cir.add_resistor(\"R2\", n1=\"n4\", n2=gnd, value=1.2e3)\n",
    "\n",
    "# Define the analysis\n",
    "ac1 = new_ac(1e3, 1.0e4, 1e2, x0=None)\n",
    "\n",
    "# run it\n",
    "res = run(cir, ac1)\n",
    "\n",
    "# plot the results\n",
    "plot_results('3rd order 1kHz Butterworth LP-filter', [('|Vn4|',\"\")], res['ac'],\n",
    "             outfilename='plots/bpf_transfer_fn.png')\n",
    "\n",
    "print(cir)"
   ]
  },
  {
   "cell_type": "raw",
   "metadata": {
    "deletable": true,
    "editable": true
   },
   "source": [
    "\n",
    "![AC simulation ](./plots/bpf_transfer_fn.png)"
   ]
  },
  {
   "cell_type": "code",
   "execution_count": null,
   "metadata": {
    "collapsed": true,
    "deletable": true,
    "editable": true
   },
   "outputs": [],
   "source": [
    "ckt_file = open('./ckts/butterworth_lp.ckt', 'w+')\n",
    "print(cir, file=ckt_file)\n",
    "print( \"\\n.tran tstop=150n tstep=.1n method=trap uic=2\\n\", file=ckt_file)\n",
    "print( \"\\n.ac start=1e3 stop=1.0e4 nsteps=200\\n\", file=ckt_file)\n",
    "# ckt = sprint(cir)\n",
    "# ckt_file = open('./ckts/butterworth.ckt', 'w+')\n",
    "# ckt_file.write(cir)\n",
    "ckt_file.close()"
   ]
  },
  {
   "cell_type": "markdown",
   "metadata": {},
   "source": [
    "## Run simulation from file"
   ]
  },
  {
   "cell_type": "code",
   "execution_count": null,
   "metadata": {
    "collapsed": false,
    "deletable": true,
    "editable": true
   },
   "outputs": [],
   "source": [
    "from ahkab.netlist_parser import parse_circuit, parse_analysis\n",
    "import tempfile\n",
    "\n",
    "(circ, directives, postproc_direct) = parse_circuit('./ckts/butterworth_lp.ckt')\n",
    "\n",
    "an = parse_analysis(circ, directives)\n",
    "for a in an:\n",
    "  a['outfile']=tempfile.mktemp('')\n",
    "\n",
    "res = run(circ, an_list=an)"
   ]
  },
  {
   "cell_type": "code",
   "execution_count": null,
   "metadata": {
    "collapsed": false,
    "deletable": true,
    "editable": true
   },
   "outputs": [],
   "source": [
    "%matplotlib inline\n",
    "import matplotlib.pyplot as plt\n",
    "\n",
    "plt.figure(figsize=[12,8],dpi=100)\n",
    "# plt.title(cir.title + \" - TRAN Simulation\")\n",
    "plt.plot(res['tran']['T'], res['tran']['VN1'], label=\"Input voltage\")\n",
    "plt.plot(res['tran']['T'], res['tran']['VN4'], label=\"Output voltage\")\n",
    "plt.legend()\n",
    "plt.grid(True)\n",
    "# plt.ylim([0,Vin*1.5])\n",
    "plt.ylabel('Step response')\n",
    "plt.xlabel('Time [s]')"
   ]
  },
  {
   "cell_type": "code",
   "execution_count": null,
   "metadata": {
    "collapsed": false,
    "deletable": true,
    "editable": true
   },
   "outputs": [],
   "source": [
    "plt.figure(figsize=[12,8],dpi=100)\n",
    "plt.subplot(211)\n",
    "plt.grid(True)\n",
    "plt.semilogx(res['ac']['f'], np.abs(res['ac']['Vn4']), '.-')\n",
    "plt.ylabel('abs(V(n4))')\n",
    "plt.title(\"AC Simulation\")\n",
    "plt.grid(True)\n",
    "plt.subplot(212)\n",
    "plt.grid(True)\n",
    "plt.semilogx(res['ac']['f'], np.angle(res['ac']['Vn4']), '.-')\n",
    "plt.xlabel('Angular frequency [1/s]')\n",
    "plt.ylabel('arg(V(n4)) [rad]')\n",
    "plt.grid(True)"
   ]
  },
  {
   "cell_type": "markdown",
   "metadata": {},
   "source": [
    "## update circuit"
   ]
  },
  {
   "cell_type": "code",
   "execution_count": null,
   "metadata": {
    "collapsed": false,
    "deletable": true,
    "editable": true
   },
   "outputs": [],
   "source": [
    "from ahkab import time_functions \n",
    "circ.remove_elem('V1')\n",
    "\n",
    "voltage_step = time_functions.pulse(v1=0, v2=1, td=1e-2, tr=1e-2, pw=0.5, tf=1e-12, per=2)\n",
    "#voltage_step = time_functions.pulse(v1=0, v2=1, td=500e-9, tr=1e-12, pw=1, tf=1e-12, per=2)\n",
    "circ.add_vsource(\"V1\", n1=\"n1\", n2=circ.gnd, dc_value=5, ac_value=1, function=voltage_step)\n",
    "\n",
    "#r = ahkab.run(circ, an_list=[op_analysis, ac_analysis, tran_analysis])\n",
    "`\n",
    "print(circ)"
   ]
  },
  {
   "cell_type": "markdown",
   "metadata": {},
   "source": [
    "## Operating Point simulation"
   ]
  },
  {
   "cell_type": "code",
   "execution_count": null,
   "metadata": {
    "collapsed": false,
    "deletable": true,
    "editable": true
   },
   "outputs": [],
   "source": [
    "op = new_op()\n",
    "\n",
    "r_op = run(circ, op)['op']\n",
    "print(r_op)"
   ]
  },
  {
   "cell_type": "markdown",
   "metadata": {},
   "source": [
    "## Transient simulation "
   ]
  },
  {
   "cell_type": "code",
   "execution_count": null,
   "metadata": {
    "collapsed": false,
    "deletable": true,
    "editable": true
   },
   "outputs": [],
   "source": [
    "tran = new_tran(tstart=0.0, tstop=2.25e-2, tstep=1e-3, x0=None)\n",
    "r_tran = run(circ, tran)['tran']\n",
    "r_tran.keys()\n",
    "plt.figure(figsize=[12,8],dpi=100)\n",
    "plt.hold(True)\n",
    "plt.plot(r_tran['T'], r_tran['VN1'], label=\"Input voltage\")\n",
    "plt.plot(r_tran['T'], r_tran['VN4'], label=\"Output voltage\")\n",
    "plt.title(cir.title + \" - TRAN Simulation\")\n",
    "plt.legend()\n",
    "plt.grid(True)\n",
    "# plt.ylim([0,Vin*1.5])\n",
    "plt.ylabel('Step response')\n",
    "plt.xlabel('Time [s]')"
   ]
  }
 ],
 "metadata": {
  "kernelspec": {
   "display_name": "Python 3",
   "language": "python",
   "name": "python3"
  },
  "language_info": {
   "codemirror_mode": {
    "name": "ipython",
    "version": 3
   },
   "file_extension": ".py",
   "mimetype": "text/x-python",
   "name": "python",
   "nbconvert_exporter": "python",
   "pygments_lexer": "ipython3",
   "version": "3.5.3"
  }
 },
 "nbformat": 4,
 "nbformat_minor": 2
}
