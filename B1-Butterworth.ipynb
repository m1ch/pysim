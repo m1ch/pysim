{
 "cells": [
  {
   "cell_type": "markdown",
   "metadata": {},
   "source": [
    "## Butterworth Filter band-pass 1khz (Bandwith 20Hz)\n",
    "\n",
    "![Butterworth Filter](./pictures/butterworth_1k.svg)\n",
    "\n",
    "```\n",
    "V1 type=vdc vdc=0.0 vac=1.0 \n",
    "R1=50R\n",
    "L1=0.245894H\n",
    "C1=1.03013e-07F\n",
    "L2=9.83652e-05H\n",
    "C2=0.000257513F\n",
    "L3=0.795775H\n",
    "C3=3.1831e-08F\n",
    "L4=9.83652e-05H\n",
    "C4=0.000257513F\n",
    "C5=1.03013e-07F\n",
    "L5=0.245894H\n",
    "R2=50R\n",
    "```"
   ]
  }
 ],
 "metadata": {
  "kernelspec": {
   "display_name": "Python 3",
   "language": "python",
   "name": "python3"
  },
  "language_info": {
   "codemirror_mode": {
    "name": "ipython",
    "version": 3
   },
   "file_extension": ".py",
   "mimetype": "text/x-python",
   "name": "python",
   "nbconvert_exporter": "python",
   "pygments_lexer": "ipython3",
   "version": "3.5.3"
  }
 },
 "nbformat": 4,
 "nbformat_minor": 2
}
